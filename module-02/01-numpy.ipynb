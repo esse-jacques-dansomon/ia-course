{
 "cells": [
  {
   "cell_type": "markdown",
   "id": "c2e961e6",
   "metadata": {},
   "source": [
    "# Cours de NumPy & Matplotlib"
   ]
  },
  {
   "cell_type": "markdown",
   "id": "02d46dd5",
   "metadata": {},
   "source": [
    "## Introduction"
   ]
  },
  {
   "cell_type": "markdown",
   "id": "fe3b615f",
   "metadata": {},
   "source": [
    "permet la manipulation de grands volumes de données, sous forme de tableau, de manière bien\n",
    "plus efficace que Python. Matplotlib sert quant à elle, à afficher des graphiques comme des\n",
    "courbes, des histogrammes…"
   ]
  },
  {
   "cell_type": "code",
   "execution_count": 1,
   "id": "88f6b88a",
   "metadata": {},
   "outputs": [],
   "source": [
    "import numpy as np\n",
    "import matplotlib.pyplot as ptl"
   ]
  },
  {
   "cell_type": "code",
   "execution_count": 2,
   "id": "9e0a55c2",
   "metadata": {},
   "outputs": [],
   "source": [
    "a = np.array([1, 1.5, 2, 2.5])\n",
    "b = np.array([[1, 1, 2, 2],[1,2,5,7]])"
   ]
  },
  {
   "cell_type": "code",
   "execution_count": 3,
   "id": "194b5338",
   "metadata": {},
   "outputs": [
    {
     "data": {
      "text/plain": [
       "array([1. , 1.5, 2. , 2.5])"
      ]
     },
     "execution_count": 3,
     "metadata": {},
     "output_type": "execute_result"
    }
   ],
   "source": [
    "a"
   ]
  },
  {
   "cell_type": "code",
   "execution_count": 4,
   "id": "53a1f620",
   "metadata": {},
   "outputs": [
    {
     "data": {
      "text/plain": [
       "array([[1, 1, 2, 2],\n",
       "       [1, 2, 5, 7]])"
      ]
     },
     "execution_count": 4,
     "metadata": {},
     "output_type": "execute_result"
    }
   ],
   "source": [
    "b"
   ]
  },
  {
   "cell_type": "code",
   "execution_count": 5,
   "id": "d466eb0c",
   "metadata": {},
   "outputs": [
    {
     "name": "stdout",
     "output_type": "stream",
     "text": [
      "1\n",
      "(2, 4)\n",
      "float64\n",
      "8\n"
     ]
    }
   ],
   "source": [
    "# Get dimeesion\n",
    "print(a.ndim)\n",
    "\n",
    "# Get Shape\n",
    "print(b.shape)\n",
    "\n",
    "# Get type\n",
    "print(a.dtype)\n",
    "\n",
    "# Get total Size\n",
    "print(a.itemsize)\n"
   ]
  },
  {
   "cell_type": "markdown",
   "id": "dabd01a2",
   "metadata": {},
   "source": [
    "## 2.2. Générer des tableaux"
   ]
  },
  {
   "cell_type": "code",
   "execution_count": 8,
   "id": "2e1e0df7",
   "metadata": {},
   "outputs": [
    {
     "name": "stdout",
     "output_type": "stream",
     "text": [
      "[ 0.   2.5  5.   7.5 10. ]\n"
     ]
    }
   ],
   "source": [
    "# genere 5 nombre compris entre 0 et 5 \n",
    "l = np.linspace(0, 10, 5)\n",
    "print(l)"
   ]
  },
  {
   "cell_type": "code",
   "execution_count": 9,
   "id": "85414509",
   "metadata": {},
   "outputs": [
    {
     "name": "stdout",
     "output_type": "stream",
     "text": [
      "[1.  1.5 2.  2.5 3.  3.5 4.  4.5]\n"
     ]
    }
   ],
   "source": [
    "#NOMBRE DE 1 A 5(EXCLU) AVEC UN PAS DE 0.5\n",
    "arange = np.arange(1,5, 0.5)\n",
    "print(arange)"
   ]
  },
  {
   "cell_type": "code",
   "execution_count": 10,
   "id": "aaf31e2b",
   "metadata": {},
   "outputs": [
    {
     "name": "stdout",
     "output_type": "stream",
     "text": [
      "[0.14935683 0.90072097 0.76950104 0.28685126]\n"
     ]
    }
   ],
   "source": [
    "# \n",
    "rr = np.random.rand(4)\n",
    "print(rr)"
   ]
  },
  {
   "cell_type": "code",
   "execution_count": 13,
   "id": "82a66e0a",
   "metadata": {},
   "outputs": [
    {
     "name": "stdout",
     "output_type": "stream",
     "text": [
      "[9 6 4 7 5]\n"
     ]
    }
   ],
   "source": [
    "# On trouve la fonction np.random.randint(max, size=n) qui va retourner un tableau avec n\n",
    "# valeurs comprises entre 0 et max (exclu).\n",
    "rrint = np.random.randint(10, size=5)\n",
    "print(rrint)"
   ]
  },
  {
   "cell_type": "code",
   "execution_count": 15,
   "id": "f1dc8746",
   "metadata": {},
   "outputs": [
    {
     "name": "stdout",
     "output_type": "stream",
     "text": [
      "[0. 0. 0.]\n",
      "[1. 1. 1. 1. 1.]\n"
     ]
    }
   ],
   "source": [
    "#array avec des valeurs zeros \n",
    "zeros = np.zeros(3)\n",
    "print(zeros)\n",
    "ones = np.ones(5)\n",
    "print(ones)"
   ]
  },
  {
   "cell_type": "markdown",
   "id": "8e2bce96",
   "metadata": {},
   "source": [
    "## 2.3. Rechercher dans un tableau"
   ]
  },
  {
   "cell_type": "code",
   "execution_count": 18,
   "id": "b7403216",
   "metadata": {},
   "outputs": [
    {
     "name": "stdout",
     "output_type": "stream",
     "text": [
      "(array([ 4,  9, 14, 19]),)\n",
      "[ 5 10 15 20]\n"
     ]
    }
   ],
   "source": [
    "tableau = np.arange(1,25)\n",
    "indexs= np.where(tableau % 5 == 0) # L'index des nombres divisibles par 5\n",
    "nbs = np.extract(tableau % 5 == 0, tableau ) #les nombres divisbles par 5\n",
    "print(indexs)\n",
    "print(nbs)"
   ]
  },
  {
   "cell_type": "markdown",
   "id": "309d4a1f",
   "metadata": {},
   "source": [
    "## 2.4. Fonctions biens utiles"
   ]
  },
  {
   "cell_type": "code",
   "execution_count": 20,
   "id": "36ad0d5a",
   "metadata": {},
   "outputs": [
    {
     "name": "stdout",
     "output_type": "stream",
     "text": [
      "[5 1 6 9]\n",
      "5.25\n",
      "5.5\n",
      "4\n"
     ]
    }
   ],
   "source": [
    "tableau = np.array([5,1,6,9])\n",
    "np.sort(tableau) # trie le tableau\n",
    "print(tableau)\n",
    "print(np.mean(tableau)) # la moyenne \n",
    "print(np.median(tableau)) # la medianne\n",
    "print(np.count_nonzero(tableau)) # compte le nombre de 0"
   ]
  },
  {
   "cell_type": "markdown",
   "id": "801761a2",
   "metadata": {},
   "source": [
    "## 2.5. Les tableaux de deux dimensions"
   ]
  },
  {
   "cell_type": "code",
   "execution_count": 22,
   "id": "03a5d02a",
   "metadata": {},
   "outputs": [
    {
     "data": {
      "text/plain": [
       "array([[0, 9, 3, 2, 7],\n",
       "       [7, 4, 2, 8, 3],\n",
       "       [6, 0, 6, 3, 5],\n",
       "       [5, 9, 4, 6, 5]])"
      ]
     },
     "execution_count": 22,
     "metadata": {},
     "output_type": "execute_result"
    }
   ],
   "source": [
    "tableau = np.random.randint(10, size=[4,5]) \n",
    "# Nombres compris entre 0(inclus) et 5 (exclus)\n",
    "tableau"
   ]
  },
  {
   "cell_type": "markdown",
   "id": "17ddc1da",
   "metadata": {},
   "source": [
    "## 2.6. Fonctions spécifiques aux tableaux de plusieurs dimensions"
   ]
  },
  {
   "cell_type": "code",
   "execution_count": 23,
   "id": "b7d02765",
   "metadata": {},
   "outputs": [
    {
     "name": "stdout",
     "output_type": "stream",
     "text": [
      "[[1 2 3]\n",
      " [4 5 6]]\n",
      "[[1 2 3]\n",
      " [4 5 6]]\n",
      "[[1 2]\n",
      " [3 4]\n",
      " [5 6]]\n",
      "[[1 2 3]\n",
      " [4 5 6]]\n"
     ]
    },
    {
     "ename": "ValueError",
     "evalue": "cannot reshape array of size 6 into shape (3,3)",
     "output_type": "error",
     "traceback": [
      "\u001b[0;31m---------------------------------------------------------------------------\u001b[0m",
      "\u001b[0;31mValueError\u001b[0m                                Traceback (most recent call last)",
      "\u001b[0;32m/var/folders/bz/_9rxylg53mq63lsfkprzfylh0000gp/T/ipykernel_75280/2688623805.py\u001b[0m in \u001b[0;36m<module>\u001b[0;34m\u001b[0m\n\u001b[1;32m      9\u001b[0m \u001b[0mprint\u001b[0m\u001b[0;34m(\u001b[0m\u001b[0mtableau\u001b[0m\u001b[0;34m.\u001b[0m\u001b[0mreshape\u001b[0m\u001b[0;34m(\u001b[0m\u001b[0;36m3\u001b[0m\u001b[0;34m,\u001b[0m\u001b[0;36m2\u001b[0m\u001b[0;34m)\u001b[0m\u001b[0;34m)\u001b[0m\u001b[0;34m\u001b[0m\u001b[0;34m\u001b[0m\u001b[0m\n\u001b[1;32m     10\u001b[0m \u001b[0mprint\u001b[0m\u001b[0;34m(\u001b[0m\u001b[0mtableau\u001b[0m\u001b[0;34m.\u001b[0m\u001b[0mreshape\u001b[0m\u001b[0;34m(\u001b[0m\u001b[0;36m2\u001b[0m\u001b[0;34m,\u001b[0m\u001b[0;36m3\u001b[0m\u001b[0;34m)\u001b[0m\u001b[0;34m)\u001b[0m\u001b[0;34m\u001b[0m\u001b[0;34m\u001b[0m\u001b[0m\n\u001b[0;32m---> 11\u001b[0;31m \u001b[0mprint\u001b[0m\u001b[0;34m(\u001b[0m\u001b[0mtableau\u001b[0m\u001b[0;34m.\u001b[0m\u001b[0mreshape\u001b[0m\u001b[0;34m(\u001b[0m\u001b[0;36m3\u001b[0m\u001b[0;34m,\u001b[0m\u001b[0;36m3\u001b[0m\u001b[0;34m)\u001b[0m\u001b[0;34m)\u001b[0m\u001b[0;34m\u001b[0m\u001b[0;34m\u001b[0m\u001b[0m\n\u001b[0m",
      "\u001b[0;31mValueError\u001b[0m: cannot reshape array of size 6 into shape (3,3)"
     ]
    }
   ],
   "source": [
    "#transpose qui va échanger les lignes et les colonnes:\n",
    "tableau = np.array([[1, 2, 3], [4, 5, 6]])\n",
    "print(tableau)\n",
    "np.transpose(tableau)\n",
    "print(tableau)\n",
    "\n",
    "#reshape qui permet de changer les dimensions d’un tableau, sans changer les valeurs, si la taille est compatible:\n",
    "tableau = np.array([1, 2, 3, 4, 5, 6])\n",
    "print(tableau.reshape(3,2))\n",
    "print(tableau.reshape(2,3))\n",
    "print(tableau.reshape(3,3))"
   ]
  },
  {
   "cell_type": "code",
   "execution_count": null,
   "id": "7876c32d",
   "metadata": {},
   "outputs": [],
   "source": []
  }
 ],
 "metadata": {
  "kernelspec": {
   "display_name": "Python 3 (ipykernel)",
   "language": "python",
   "name": "python3"
  },
  "language_info": {
   "codemirror_mode": {
    "name": "ipython",
    "version": 3
   },
   "file_extension": ".py",
   "mimetype": "text/x-python",
   "name": "python",
   "nbconvert_exporter": "python",
   "pygments_lexer": "ipython3",
   "version": "3.9.13"
  }
 },
 "nbformat": 4,
 "nbformat_minor": 5
}
