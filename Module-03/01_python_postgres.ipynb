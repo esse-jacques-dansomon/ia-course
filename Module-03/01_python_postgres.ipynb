{
 "cells": [
  {
   "cell_type": "markdown",
   "id": "546aafe5",
   "metadata": {},
   "source": [
    "# Connecting Python to PostgreSQL\n"
   ]
  },
  {
   "cell_type": "code",
   "execution_count": 13,
   "id": "c515b9fe",
   "metadata": {},
   "outputs": [],
   "source": [
    "import psycopg2\n",
    "conn = psycopg2.connect(database = \"datacamp_courses\", \n",
    "                        user = \"postgres\", \n",
    "                        host= 'localhost',\n",
    "                        password = \"root\",\n",
    "                        port = 5432)"
   ]
  },
  {
   "cell_type": "markdown",
   "id": "5a5ab290",
   "metadata": {},
   "source": [
    "To excecute a command like SELECT, INSERT, CREATE, UPDATE OR DELETE you need to \n",
    "\n",
    "    *create cursor\n",
    "    *make operations with it \n",
    "    *commit it \n",
    "    *close cursor"
   ]
  },
  {
   "cell_type": "code",
   "execution_count": 7,
   "id": "b1d9d26a",
   "metadata": {},
   "outputs": [],
   "source": [
    "# Open a cursor to perform database operations\n",
    "cur = conn.cursor()\n",
    "# Execute a command: create datacamp_courses table\n",
    "cur.execute(\"\"\"CREATE TABLE courses(\n",
    "            course_id SERIAL PRIMARY KEY,\n",
    "            course_name VARCHAR (50) UNIQUE NOT NULL,\n",
    "            course_instructor VARCHAR (100) NOT NULL,\n",
    "            topic VARCHAR (20) NOT NULL);\n",
    "            \"\"\")\n",
    "# Make the changes to the database persistent\n",
    "conn.commit()\n",
    "# Close cursor and communication with the database\n",
    "cur.close()\n",
    "conn.close()"
   ]
  },
  {
   "cell_type": "code",
   "execution_count": 11,
   "id": "8a64c680",
   "metadata": {},
   "outputs": [],
   "source": [
    "cur = conn.cursor()\n",
    "\n",
    "cur.execute(\"INSERT INTO courses(course_name, course_instructor, topic) VALUES('Introduction to SQL','Izzy Weber','Julia')\");\n",
    "\n",
    "cur.execute(\"INSERT INTO courses(course_name, course_instructor, topic) VALUES('Analyzing Survey Data in Python','EbunOluwa Andrew','Python')\");\n",
    "\n",
    "cur.execute(\"INSERT INTO courses(course_name, course_instructor, topic) VALUES('Introduction to ChatGPT','James Chapman','Theory')\");\n",
    "\n",
    "cur.execute(\"INSERT INTO courses(course_name, course_instructor, topic) VALUES('Introduction to Statistics in R','Maggie Matsui','R')\");\n",
    "\n",
    "cur.execute(\"INSERT INTO courses(course_name, course_instructor, topic) VALUES('Hypothesis Testing in Python','James Chapman','Python')\");\n",
    "\n",
    "conn.commit()\n",
    "cur.close()\n",
    "conn.close()"
   ]
  },
  {
   "cell_type": "code",
   "execution_count": 14,
   "id": "d738fd58",
   "metadata": {},
   "outputs": [
    {
     "name": "stdout",
     "output_type": "stream",
     "text": [
      "(1, 'Introduction to SQL', 'Izzy Weber', 'Julia')\n",
      "(2, 'Analyzing Survey Data in Python', 'EbunOluwa Andrew', 'Python')\n",
      "(3, 'Introduction to ChatGPT', 'James Chapman', 'Theory')\n",
      "(4, 'Introduction to Statistics in R', 'Maggie Matsui', 'R')\n",
      "(5, 'Hypothesis Testing in Python', 'James Chapman', 'Python')\n"
     ]
    }
   ],
   "source": [
    "cur = conn.cursor()\n",
    "cur.execute('SELECT * FROM courses;')\n",
    "rows = cur.fetchall()\n",
    "conn.commit()\n",
    "for row in rows:\n",
    "    print(row)"
   ]
  },
  {
   "cell_type": "code",
   "execution_count": null,
   "id": "946238e2",
   "metadata": {},
   "outputs": [],
   "source": []
  }
 ],
 "metadata": {
  "kernelspec": {
   "display_name": "Python 3 (ipykernel)",
   "language": "python",
   "name": "python3"
  },
  "language_info": {
   "codemirror_mode": {
    "name": "ipython",
    "version": 3
   },
   "file_extension": ".py",
   "mimetype": "text/x-python",
   "name": "python",
   "nbconvert_exporter": "python",
   "pygments_lexer": "ipython3",
   "version": "3.11.5"
  }
 },
 "nbformat": 4,
 "nbformat_minor": 5
}
